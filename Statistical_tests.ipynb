{
 "cells": [
  {
   "cell_type": "code",
   "execution_count": 2,
   "id": "6e598ad9-ad4c-43ab-944d-e1775d84724d",
   "metadata": {},
   "outputs": [],
   "source": [
    "import pandas as pd\n",
    "\n",
    "from sklearn import datasets\n",
    "iris_data = datasets.load_iris(as_frame=True)\n",
    "iris_frame = iris_data.frame"
   ]
  },
  {
   "cell_type": "markdown",
   "id": "74169235-bff5-4f93-b827-2737d439ab16",
   "metadata": {},
   "source": [
    "# KS Test "
   ]
  },
  {
   "cell_type": "markdown",
   "id": "849922b5-a9b5-4d2e-b8c6-4327c0d567de",
   "metadata": {},
   "source": [
    "KS Test is performed where current data and reference data are almost same."
   ]
  },
  {
   "cell_type": "code",
   "execution_count": 4,
   "id": "15b96017-98ef-4f64-9879-88d33314e7a4",
   "metadata": {},
   "outputs": [
    {
     "name": "stdout",
     "output_type": "stream",
     "text": [
      "No data drift detected. (p-value: 0.2819)\n"
     ]
    },
    {
     "data": {
      "text/plain": [
       "False"
      ]
     },
     "execution_count": 4,
     "metadata": {},
     "output_type": "execute_result"
    }
   ],
   "source": [
    "from scipy.stats import ks_2samp\n",
    "\n",
    "def ks_test(data1, data2, alpha=0.05):\n",
    "    \"\"\"\n",
    "    Perform the Kolmogorov-Smirnov (KS) test for two samples.\n",
    "\n",
    "    Parameters:\n",
    "        data1 (array-like): First sample data.\n",
    "        data2 (array-like): Second sample data.\n",
    "        alpha (float): Significance level (default: 0.05).\n",
    "\n",
    "    Returns:\n",
    "        bool: True if null hypothesis is rejected, indicating data drift.\n",
    "    \"\"\"\n",
    "    # Perform KS test\n",
    "    ks_statistic, p_value = ks_2samp(data1, data2)\n",
    "\n",
    "    # Compare p-value to significance level\n",
    "    if p_value < alpha:\n",
    "        print(\"Data drift detected! (p-value: {:.4f})\".format(p_value))\n",
    "        return True\n",
    "    else:\n",
    "        print(\"No data drift detected. (p-value: {:.4f})\".format(p_value))\n",
    "        return False\n",
    "\n",
    "# Perform KS test for data drift detection\n",
    "current_data=iris_frame.iloc[:75]\n",
    "reference_data=iris_frame.iloc[:60]\n",
    "sample1 = current_data['petal width (cm)'].values\n",
    "sample2 = reference_data['petal width (cm)'].values\n",
    "\n",
    "ks_test(sample1, sample2)\n"
   ]
  },
  {
   "cell_type": "markdown",
   "id": "aee0c4db-e226-4b2f-a917-c68d425a0eea",
   "metadata": {},
   "source": [
    "KS Test is performed where current data and reference data are completely different."
   ]
  },
  {
   "cell_type": "code",
   "execution_count": 5,
   "id": "9258d73a-3c5d-42b1-96d9-7cc5adbde5ea",
   "metadata": {},
   "outputs": [
    {
     "name": "stdout",
     "output_type": "stream",
     "text": [
      "Data drift detected! (p-value: 0.0000)\n"
     ]
    },
    {
     "data": {
      "text/plain": [
       "True"
      ]
     },
     "execution_count": 5,
     "metadata": {},
     "output_type": "execute_result"
    }
   ],
   "source": [
    "from scipy.stats import ks_2samp\n",
    "\n",
    "def ks_test(data1, data2, alpha=0.05):\n",
    "    \"\"\"\n",
    "    Perform the Kolmogorov-Smirnov (KS) test for two samples.\n",
    "\n",
    "    Parameters:\n",
    "        data1 (array-like): First sample data.\n",
    "        data2 (array-like): Second sample data.\n",
    "        alpha (float): Significance level (default: 0.05).\n",
    "\n",
    "    Returns:\n",
    "        bool: True if null hypothesis is rejected, indicating data drift.\n",
    "    \"\"\"\n",
    "    # Perform KS test\n",
    "    ks_statistic, p_value = ks_2samp(data1, data2)\n",
    "\n",
    "    # Compare p-value to significance level\n",
    "    if p_value < alpha:\n",
    "        print(\"Data drift detected! (p-value: {:.4f})\".format(p_value))\n",
    "        return True\n",
    "    else:\n",
    "        print(\"No data drift detected. (p-value: {:.4f})\".format(p_value))\n",
    "        return False\n",
    "\n",
    "# Perform KS test for data drift detection\n",
    "current_data=iris_frame.iloc[:60]\n",
    "reference_data=iris_frame.iloc[60:]\n",
    "sample1 = current_data['petal width (cm)'].values\n",
    "sample2 = reference_data['petal width (cm)'].values\n",
    "\n",
    "ks_test(sample1, sample2)\n"
   ]
  },
  {
   "cell_type": "markdown",
   "id": "aa8138c0-7d28-48d5-a9e5-362e7a82edb1",
   "metadata": {},
   "source": [
    "# Chi-Square Test"
   ]
  },
  {
   "cell_type": "code",
   "execution_count": 7,
   "id": "b1b78650-645f-45d7-93d2-f42d88ee8260",
   "metadata": {},
   "outputs": [
    {
     "name": "stdout",
     "output_type": "stream",
     "text": [
      "Chi2 Stat: 1.4391214977590405, P-Value: 0.8373678077554415, Degrees of Freedom: 4\n",
      "No significant drift detected in the target variable.\n"
     ]
    }
   ],
   "source": [
    "import pandas as pd\n",
    "from sklearn.datasets import load_wine\n",
    "from scipy.stats import chi2_contingency\n",
    "\n",
    "# Load Wine dataset\n",
    "wine_data = load_wine(as_frame=True)\n",
    "wine_frame = wine_data.frame\n",
    "\n",
    "# Simulate current data by shuffling the original data and modifying the target\n",
    "current_data = wine_frame.sample(frac=1.0, random_state=42).reset_index(drop=True)\n",
    "current_data['target'] = current_data['target'].apply(lambda x: (x + 1) % 3)  # Modify the target to simulate drift\n",
    "\n",
    "# Create contingency table\n",
    "contingency_table = pd.crosstab(current_data['target'], wine_frame['target'])\n",
    "\n",
    "# Perform Chi-Square Test\n",
    "chi2_stat, p_value, dof, expected = chi2_contingency(contingency_table)\n",
    "print(f\"Chi2 Stat: {chi2_stat}, P-Value: {p_value}, Degrees of Freedom: {dof}\")\n",
    "\n",
    "# Interpret the result\n",
    "if p_value < 0.05:\n",
    "    print(\"Significant drift detected in the target variable.\")\n",
    "else:\n",
    "    print(\"No significant drift detected in the target variable.\")\n"
   ]
  },
  {
   "cell_type": "markdown",
   "id": "dd1d3081-ad52-4064-b321-2cd00a94a4f2",
   "metadata": {},
   "source": [
    "# Z-Test"
   ]
  },
  {
   "cell_type": "code",
   "execution_count": 12,
   "id": "6c00910e-c627-4c13-aef6-5dec169a3571",
   "metadata": {},
   "outputs": [
    {
     "name": "stdout",
     "output_type": "stream",
     "text": [
      "Z-Statistic: -1.276884796138123, P-Value: 0.2016429225591495\n",
      "No data drift detected. (Fail to reject null hypothesis)\n"
     ]
    }
   ],
   "source": [
    "from statsmodels.stats.weightstats import ztest\n",
    "\n",
    "# Example data\n",
    "sample1 = [23, 21, 18, 25, 30]\n",
    "sample2 = [27, 28, 29, 26, 22]\n",
    "\n",
    "# Two-sample Z-test\n",
    "z_stat, p_value = ztest(sample1, sample2)\n",
    "print(f\"Z-Statistic: {z_stat}, P-Value: {p_value}\")\n",
    "alpha = 0.05  # Define significance level\n",
    "if p_value < alpha:\n",
    "    print(\"Data drift detected! (Reject null hypothesis)\")\n",
    "else:\n",
    "    print(\"No data drift detected. (Fail to reject null hypothesis)\")\n"
   ]
  },
  {
   "cell_type": "markdown",
   "id": "a83e5072-60b7-48ba-bab1-53c75f8fa63b",
   "metadata": {},
   "source": [
    "# T-Test"
   ]
  },
  {
   "cell_type": "code",
   "execution_count": 13,
   "id": "8075430f-3a24-4c68-a650-e82853aa34c4",
   "metadata": {},
   "outputs": [
    {
     "name": "stdout",
     "output_type": "stream",
     "text": [
      "T-Statistic: -1.276884796138123, P-Value: 0.2374560613820748\n",
      "No data drift detected. (Fail to reject null hypothesis)\n"
     ]
    }
   ],
   "source": [
    "from scipy import stats\n",
    "\n",
    "# Example data\n",
    "sample1 = [23, 21, 18, 25, 30]\n",
    "sample2 = [27, 28, 29, 26, 22]\n",
    "\n",
    "# Independent two-sample t-test\n",
    "t_stat, p_value = stats.ttest_ind(sample1, sample2)\n",
    "print(f\"T-Statistic: {t_stat}, P-Value: {p_value}\")\n",
    "alpha = 0.05  # Define significance level\n",
    "if p_value < alpha:\n",
    "    print(\"Data drift detected! (Reject null hypothesis)\")\n",
    "else:\n",
    "    print(\"No data drift detected. (Fail to reject null hypothesis)\")\n"
   ]
  },
  {
   "cell_type": "code",
   "execution_count": null,
   "id": "6e2c49d9-80a3-4a6a-b56e-928e755357e1",
   "metadata": {},
   "outputs": [],
   "source": []
  }
 ],
 "metadata": {
  "kernelspec": {
   "display_name": "Python 3 (ipykernel)",
   "language": "python",
   "name": "python3"
  },
  "language_info": {
   "codemirror_mode": {
    "name": "ipython",
    "version": 3
   },
   "file_extension": ".py",
   "mimetype": "text/x-python",
   "name": "python",
   "nbconvert_exporter": "python",
   "pygments_lexer": "ipython3",
   "version": "3.10.12"
  }
 },
 "nbformat": 4,
 "nbformat_minor": 5
}
